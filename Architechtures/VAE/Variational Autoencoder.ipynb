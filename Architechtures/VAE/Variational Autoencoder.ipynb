{
 "cells": [
  {
   "cell_type": "code",
   "execution_count": 5,
   "metadata": {},
   "outputs": [],
   "source": [
    "from __future__ import absolute_import\n",
    "from __future__ import division\n",
    "from __future__ import print_function\n",
    "\n",
    "from keras import backend as K\n",
    "from keras.models import Model\n",
    "from keras.layers import Input, Dense, Lambda\n",
    "from keras.losses import mse, binary_crossentropy\n",
    "from keras import optimizers\n",
    "\n",
    "import numpy as np"
   ]
  },
  {
   "cell_type": "code",
   "execution_count": 6,
   "metadata": {},
   "outputs": [],
   "source": [
    "# reparameterization trick\n",
    "# instead of sampling from Q(z|X), sample eps = N(0,I)\n",
    "# z = z_mean + sqrt(var)*eps\n",
    "def sampling(args):\n",
    "    \"\"\"Reparameterization trick by sampling fr an isotropic unit Gaussian.\n",
    "    # Arguments:\n",
    "        args (tensor): mean and log of variance of Q(z|X)\n",
    "    # Returns:\n",
    "        z (tensor): sampled latent vector\n",
    "    \"\"\"\n",
    "\n",
    "    z_mean, z_log_var = args\n",
    "    batch = K.shape(z_mean)[0]\n",
    "    dim = K.int_shape(z_mean)[1]\n",
    "    # by default, random_normal has mean=0 and std=1.0\n",
    "    epsilon = K.random_normal(shape=(batch, dim))\n",
    "    return z_mean + K.exp(0.5 * z_log_var) * epsilon"
   ]
  },
  {
   "cell_type": "code",
   "execution_count": 7,
   "metadata": {},
   "outputs": [],
   "source": [
    "def create_encoder(input_shape, latent_shape, hidden_shapes = [], variational = False):\n",
    "    layers = list()\n",
    "    # add input\n",
    "    layers.append(Input(shape = (input_shape,), name = 'encoder_input'))\n",
    "    # add hidden layers\n",
    "    for index, hidden_shape in enumerate(hidden_shapes):\n",
    "        layers.append(Dense(hidden_shape, activation = 'relu', name = 'encoder_hidden_' + str(index+1))(layers[-1]))\n",
    "    # add output\n",
    "    if(variational):\n",
    "        latent_mean = Dense(latent_shape, name = 'encoder_latent_mean')(layers[-1])\n",
    "        latent_log_var = Dense(latent_shape, name = 'encoder_latent_log_var')(layers[-1])\n",
    "        latent_sample = Lambda(sampling, output_shape=(latent_shape,), name='encoder_latent')([latent_mean, latent_log_var])\n",
    "        layers.append([latent_mean, latent_log_var, latent_sample])\n",
    "    else:\n",
    "        layers.append(Dense(latent_shape, activation = 'sigmoid', name = 'encoder_latent')(layers[-1]))\n",
    "    # create model\n",
    "    encoder = Model(inputs = layers[0], outputs = layers[-1], name = 'encoder')\n",
    "    return encoder"
   ]
  },
  {
   "cell_type": "code",
   "execution_count": 8,
   "metadata": {},
   "outputs": [],
   "source": [
    "def create_decoder(latent_shape, output_shape, hidden_shapes = []):\n",
    "    layers = list()\n",
    "    # add input\n",
    "    layers.append(Input(shape = (latent_shape,), name = 'decoder_input'))\n",
    "    # add hidden layers\n",
    "    for index, hidden_shape in enumerate(hidden_shapes):\n",
    "        layers.append(Dense(hidden_shape, activation = 'relu', name = 'decoder_hidden_' + str(index+1))(layers[-1]))\n",
    "    # add output\n",
    "    layers.append(Dense(output_shape, activation = 'sigmoid', name = 'decoder_output')(layers[-1]))\n",
    "    # create model\n",
    "    decoder = Model(inputs = layers[0], outputs = layers[-1], name = 'decoder')\n",
    "    return decoder"
   ]
  },
  {
   "cell_type": "code",
   "execution_count": 9,
   "metadata": {},
   "outputs": [],
   "source": [
    "def create_autoencoder(input_shape, latent_shape, hidden_shapes = [], variational = False):\n",
    "    encoder = create_encoder(input_shape, latent_shape, hidden_shapes, variational)\n",
    "    decoder = create_decoder(latent_shape, input_shape, list(reversed(hidden_shapes)))\n",
    "    \n",
    "    inputs = encoder.input\n",
    "    latent = encoder.output\n",
    "    outputs = None\n",
    "    if(variational):\n",
    "        outputs = decoder(encoder(inputs)[2])\n",
    "        reconstruction_loss = mse(inputs, outputs)\n",
    "        reconstruction_loss *= np.prod(input_shape)\n",
    "        kullback_leibler_loss = 1 + latent[1] - K.square(latent[0]) - K.exp(latent[1])\n",
    "        kullback_leibler_loss = K.sum(kullback_leibler_loss, axis=-1)\n",
    "        kullback_leibler_loss *= -0.5\n",
    "        loss = K.mean(reconstruction_loss + kullback_leibler_loss)\n",
    "    else:\n",
    "        outputs = decoder(encoder(inputs))\n",
    "        loss = binary_crossentropy(inputs, outputs)\n",
    "        \n",
    "    autoencoder = Model(encoder.get_input_at(0), outputs, name = 'autoencoder')\n",
    "    autoencoder.add_loss(loss)\n",
    "    autoencoder.compile(optimizer='adam')\n",
    "    \n",
    "    return autoencoder"
   ]
  },
  {
   "cell_type": "code",
   "execution_count": 15,
   "metadata": {},
   "outputs": [
    {
     "ename": "ImportError",
     "evalue": "cannot import name 'MNIST'",
     "output_type": "error",
     "traceback": [
      "\u001b[0;31m---------------------------------------------------------------------------\u001b[0m",
      "\u001b[0;31mImportError\u001b[0m                               Traceback (most recent call last)",
      "\u001b[0;32m<ipython-input-15-ff07fff531b5>\u001b[0m in \u001b[0;36m<module>\u001b[0;34m()\u001b[0m\n\u001b[0;32m----> 1\u001b[0;31m \u001b[0;32mfrom\u001b[0m \u001b[0mmnist\u001b[0m \u001b[0;32mimport\u001b[0m \u001b[0mMNIST\u001b[0m\u001b[0;34m\u001b[0m\u001b[0m\n\u001b[0m\u001b[1;32m      2\u001b[0m \u001b[0;34m\u001b[0m\u001b[0m\n\u001b[1;32m      3\u001b[0m \u001b[0mmndata\u001b[0m \u001b[0;34m=\u001b[0m \u001b[0mMNIST\u001b[0m\u001b[0;34m(\u001b[0m\u001b[0;34m'mnist_data'\u001b[0m\u001b[0;34m)\u001b[0m\u001b[0;34m\u001b[0m\u001b[0m\n\u001b[1;32m      4\u001b[0m \u001b[0;34m\u001b[0m\u001b[0m\n\u001b[1;32m      5\u001b[0m \u001b[0;32mdef\u001b[0m \u001b[0mconvert_for_nn\u001b[0m\u001b[0;34m(\u001b[0m\u001b[0mimages\u001b[0m\u001b[0;34m,\u001b[0m \u001b[0mlabels\u001b[0m\u001b[0;34m)\u001b[0m\u001b[0;34m:\u001b[0m\u001b[0;34m\u001b[0m\u001b[0m\n",
      "\u001b[0;31mImportError\u001b[0m: cannot import name 'MNIST'"
     ]
    }
   ],
   "source": [
    "from mnist import MNIST\n",
    "\n",
    "mndata = MNIST('mnist_data')\n",
    "\n",
    "def convert_for_nn(images, labels):\n",
    "    '''\n",
    "    for i in range(len(images)):\n",
    "        images[i] = np.asarray(images[i]).reshape((28, 28))\n",
    "    '''\n",
    "    return np.asarray(images), np.asarray(labels)\n",
    "\n",
    "train_images, train_labels = mndata.load_training()\n",
    "train_images, train_labels = convert_for_nn(train_images, train_labels)\n",
    "test_images, test_labels = mndata.load_testing()\n",
    "test_images, test_labels = convert_for_nn(test_images, test_labels)\n",
    "\n",
    "train_images = train_images.astype('float32') / 255\n",
    "test_images = test_images.astype('float32') / 255"
   ]
  },
  {
   "cell_type": "code",
   "execution_count": 457,
   "metadata": {},
   "outputs": [
    {
     "name": "stdout",
     "output_type": "stream",
     "text": [
      "_________________________________________________________________\n",
      "Layer (type)                 Output Shape              Param #   \n",
      "=================================================================\n",
      "encoder_input (InputLayer)   (None, 784)               0         \n",
      "_________________________________________________________________\n",
      "encoder (Model)              (None, 100)               453220    \n",
      "_________________________________________________________________\n",
      "decoder (Model)              (None, 784)               453904    \n",
      "=================================================================\n",
      "Total params: 907,124\n",
      "Trainable params: 907,124\n",
      "Non-trainable params: 0\n",
      "_________________________________________________________________\n"
     ]
    },
    {
     "name": "stderr",
     "output_type": "stream",
     "text": [
      "C:\\ProgramData\\Anaconda3\\lib\\site-packages\\ipykernel_launcher.py:22: UserWarning: Output \"decoder\" missing from loss dictionary. We assume this was done on purpose, and we will not be expecting any data to be passed to \"decoder\" during training.\n"
     ]
    }
   ],
   "source": [
    "autoencoder = create_autoencoder(784, 100, [512], variational=False)\n",
    "autoencoder.summary()"
   ]
  },
  {
   "cell_type": "code",
   "execution_count": 458,
   "metadata": {},
   "outputs": [
    {
     "name": "stdout",
     "output_type": "stream",
     "text": [
      "Train on 60000 samples, validate on 10000 samples\n",
      "Epoch 1/5\n",
      "60000/60000 [==============================] - 9s 151us/step - loss: 0.2319 - val_loss: 0.1751\n",
      "Epoch 2/5\n",
      "60000/60000 [==============================] - 8s 136us/step - loss: 0.1547 - val_loss: 0.1366\n",
      "Epoch 3/5\n",
      "60000/60000 [==============================] - 8s 136us/step - loss: 0.1281 - val_loss: 0.1186\n",
      "Epoch 4/5\n",
      "60000/60000 [==============================] - 8s 137us/step - loss: 0.1130 - val_loss: 0.1067\n",
      "Epoch 5/5\n",
      "60000/60000 [==============================] - 8s 139us/step - loss: 0.1040 - val_loss: 0.0993\n"
     ]
    }
   ],
   "source": [
    "history = autoencoder.fit(train_images, epochs=5, batch_size=200, validation_data=(test_images, None))"
   ]
  },
  {
   "cell_type": "code",
   "execution_count": 459,
   "metadata": {},
   "outputs": [],
   "source": [
    "from matplotlib.pyplot import imshow\n",
    "from PIL import Image\n",
    "\n",
    "%matplotlib inline"
   ]
  },
  {
   "cell_type": "code",
   "execution_count": 246,
   "metadata": {},
   "outputs": [],
   "source": []
  },
  {
   "cell_type": "code",
   "execution_count": 481,
   "metadata": {},
   "outputs": [
    {
     "data": {
      "text/plain": [
       "<matplotlib.image.AxesImage at 0x206d001d668>"
      ]
     },
     "execution_count": 481,
     "metadata": {},
     "output_type": "execute_result"
    },
    {
     "data": {
      "image/png": "[encoded data removed]",
      "text/plain": [
       "<matplotlib.figure.Figure at 0x206cff7a9b0>"
      ]
     },
     "metadata": {},
     "output_type": "display_data"
    }
   ],
   "source": [
    "image_array = test_images[300]\n",
    "imshow(Image.fromarray((image_array.reshape((28,28)) * 255).astype(np.uint8), 'L').resize((280,280)))"
   ]
  },
  {
   "cell_type": "code",
   "execution_count": 482,
   "metadata": {},
   "outputs": [
    {
     "data": {
      "text/plain": [
       "<matplotlib.image.AxesImage at 0x206d008a3c8>"
      ]
     },
     "execution_count": 482,
     "metadata": {},
     "output_type": "execute_result"
    },
    {
     "data": {
      "image/png": "[encoded data removed]",
      "text/plain": [
       "<matplotlib.figure.Figure at 0x206cffec080>"
      ]
     },
     "metadata": {},
     "output_type": "display_data"
    }
   ],
   "source": [
    "image_array = autoencoder.predict(test_images[300][None,:])[0]\n",
    "imshow(Image.fromarray((image_array.reshape((28,28)) * 255).astype(np.uint8), 'L').resize((280,280)))"
   ]
  },
  {
   "cell_type": "code",
   "execution_count": 455,
   "metadata": {},
   "outputs": [
    {
     "data": {
      "text/plain": [
       "array([1., 1., 1., 1., 1., 1., 1., 1., 1., 1.], dtype=float32)"
      ]
     },
     "execution_count": 455,
     "metadata": {},
     "output_type": "execute_result"
    }
   ],
   "source": [
    "autoencoder.layers[1].predict(test_images[800][None,:])[0]"
   ]
  },
  {
   "cell_type": "code",
   "execution_count": 421,
   "metadata": {},
   "outputs": [
    {
     "data": {
      "text/plain": [
       "<matplotlib.image.AxesImage at 0x206c2dd8f98>"
      ]
     },
     "execution_count": 421,
     "metadata": {},
     "output_type": "execute_result"
    },
    {
     "data": {
      "image/png": "[encoded data removed]",
      "text/plain": [
       "<matplotlib.figure.Figure at 0x206c2d36898>"
      ]
     },
     "metadata": {},
     "output_type": "display_data"
    }
   ],
   "source": [
    "image_array = autoencoder.layers[2].predict(np.array([-2, 1])[None,:])\n",
    "imshow(Image.fromarray((image_array.reshape((28,28)) * 255).astype(np.uint8), 'L').resize((280,280)))"
   ]
  },
  {
   "cell_type": "code",
   "execution_count": 375,
   "metadata": {},
   "outputs": [
    {
     "data": {
      "text/plain": [
       "<matplotlib.image.AxesImage at 0x206af66d908>"
      ]
     },
     "execution_count": 375,
     "metadata": {},
     "output_type": "execute_result"
    },
    {
     "data": {
      "image/png": "[encoded data removed]",
      "text/plain": [
       "<matplotlib.figure.Figure at 0x206af5ccfd0>"
      ]
     },
     "metadata": {},
     "output_type": "display_data"
    }
   ],
   "source": [
    "image_array = autoencoder.layers[2].predict(np.array([1, -1, 1, .5])[None,:])\n",
    "imshow(Image.fromarray((image_array.reshape((28,28)) * 255).astype(np.uint8), 'L').resize((280,280)))"
   ]
  }
 ],
 "metadata": {
  "kernelspec": {
   "display_name": "Python 3",
   "language": "python",
   "name": "python3"
  },
  "language_info": {
   "codemirror_mode": {
    "name": "ipython",
    "version": 3
   },
   "file_extension": ".py",
   "mimetype": "text/x-python",
   "name": "python",
   "nbconvert_exporter": "python",
   "pygments_lexer": "ipython3",
   "version": "3.5.5"
  }
 },
 "nbformat": 4,
 "nbformat_minor": 2
}
